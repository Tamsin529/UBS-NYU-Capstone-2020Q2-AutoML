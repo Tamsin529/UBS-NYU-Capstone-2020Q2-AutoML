{
 "cells": [
  {
   "cell_type": "code",
   "execution_count": 1,
   "metadata": {},
   "outputs": [],
   "source": [
    "import numpy as np\n",
    "import pandas as pd\n",
    "import nltk\n",
    "import re\n",
    "import string\n",
    "import xgboost as xgb\n",
    "from sklearn.ensemble import RandomForestRegressor, BaggingRegressor\n",
    "from sklearn.model_selection import cross_val_score,train_test_split\n",
    "import math\n",
    "import spacy\n",
    "import en_core_web_sm\n",
    "import itertools\n",
    "from sklearn.metrics import mean_squared_error\n",
    "from pymagnitude import *"
   ]
  },
  {
   "cell_type": "code",
   "execution_count": 2,
   "metadata": {},
   "outputs": [],
   "source": [
    "vectors = Magnitude('./GoogleNews-vectors-negative300.magnitude')"
   ]
  },
  {
   "cell_type": "code",
   "execution_count": 3,
   "metadata": {},
   "outputs": [
    {
     "data": {
      "text/html": [
       "<div>\n",
       "<style scoped>\n",
       "    .dataframe tbody tr th:only-of-type {\n",
       "        vertical-align: middle;\n",
       "    }\n",
       "\n",
       "    .dataframe tbody tr th {\n",
       "        vertical-align: top;\n",
       "    }\n",
       "\n",
       "    .dataframe thead th {\n",
       "        text-align: right;\n",
       "    }\n",
       "</style>\n",
       "<table border=\"1\" class=\"dataframe\">\n",
       "  <thead>\n",
       "    <tr style=\"text-align: right;\">\n",
       "      <th></th>\n",
       "      <th>id</th>\n",
       "      <th>product_uid</th>\n",
       "      <th>product_title</th>\n",
       "      <th>search_term</th>\n",
       "      <th>relevance</th>\n",
       "      <th>product_description</th>\n",
       "    </tr>\n",
       "  </thead>\n",
       "  <tbody>\n",
       "    <tr>\n",
       "      <th>0</th>\n",
       "      <td>2</td>\n",
       "      <td>100001</td>\n",
       "      <td>Simpson Strong-Tie 12-Gauge Angle</td>\n",
       "      <td>angle bracket</td>\n",
       "      <td>3.00</td>\n",
       "      <td>Not only do angles make joints stronger, they ...</td>\n",
       "    </tr>\n",
       "    <tr>\n",
       "      <th>1</th>\n",
       "      <td>3</td>\n",
       "      <td>100001</td>\n",
       "      <td>Simpson Strong-Tie 12-Gauge Angle</td>\n",
       "      <td>l bracket</td>\n",
       "      <td>2.50</td>\n",
       "      <td>Not only do angles make joints stronger, they ...</td>\n",
       "    </tr>\n",
       "    <tr>\n",
       "      <th>2</th>\n",
       "      <td>9</td>\n",
       "      <td>100002</td>\n",
       "      <td>BEHR Premium Textured DeckOver 1-gal. #SC-141 ...</td>\n",
       "      <td>deck over</td>\n",
       "      <td>3.00</td>\n",
       "      <td>BEHR Premium Textured DECKOVER is an innovativ...</td>\n",
       "    </tr>\n",
       "    <tr>\n",
       "      <th>3</th>\n",
       "      <td>16</td>\n",
       "      <td>100005</td>\n",
       "      <td>Delta Vero 1-Handle Shower Only Faucet Trim Ki...</td>\n",
       "      <td>rain shower head</td>\n",
       "      <td>2.33</td>\n",
       "      <td>Update your bathroom with the Delta Vero Singl...</td>\n",
       "    </tr>\n",
       "    <tr>\n",
       "      <th>4</th>\n",
       "      <td>17</td>\n",
       "      <td>100005</td>\n",
       "      <td>Delta Vero 1-Handle Shower Only Faucet Trim Ki...</td>\n",
       "      <td>shower only faucet</td>\n",
       "      <td>2.67</td>\n",
       "      <td>Update your bathroom with the Delta Vero Singl...</td>\n",
       "    </tr>\n",
       "    <tr>\n",
       "      <th>...</th>\n",
       "      <td>...</td>\n",
       "      <td>...</td>\n",
       "      <td>...</td>\n",
       "      <td>...</td>\n",
       "      <td>...</td>\n",
       "      <td>...</td>\n",
       "    </tr>\n",
       "    <tr>\n",
       "      <th>74062</th>\n",
       "      <td>221457</td>\n",
       "      <td>206638</td>\n",
       "      <td>Atlantic Windowpane 576 CD or 192 DVD Blu-Ray ...</td>\n",
       "      <td>tv riser glass</td>\n",
       "      <td>1.00</td>\n",
       "      <td>Atlantic, Inc. 94835722 Uniquely designed for ...</td>\n",
       "    </tr>\n",
       "    <tr>\n",
       "      <th>74063</th>\n",
       "      <td>221458</td>\n",
       "      <td>206639</td>\n",
       "      <td>Philips 40-Watt Halogen R20 Flood Light Bulb (...</td>\n",
       "      <td>r20 halogen light</td>\n",
       "      <td>3.00</td>\n",
       "      <td>Philips Energy Advantage lamps use less energy...</td>\n",
       "    </tr>\n",
       "    <tr>\n",
       "      <th>74064</th>\n",
       "      <td>221463</td>\n",
       "      <td>206641</td>\n",
       "      <td>Schlage Camelot In-Active Aged Bronze Handlese...</td>\n",
       "      <td>schlage lock siena half dummy knob with</td>\n",
       "      <td>2.33</td>\n",
       "      <td>The Schlage Camelot In-Active Aged Bronze Hand...</td>\n",
       "    </tr>\n",
       "    <tr>\n",
       "      <th>74065</th>\n",
       "      <td>221471</td>\n",
       "      <td>206648</td>\n",
       "      <td>Plastec 11 in. x 24 in. Rose Garden Wall Decor...</td>\n",
       "      <td>zen garden  decor</td>\n",
       "      <td>3.00</td>\n",
       "      <td>The Rose Garden is inspired by the popular ear...</td>\n",
       "    </tr>\n",
       "    <tr>\n",
       "      <th>74066</th>\n",
       "      <td>221473</td>\n",
       "      <td>206650</td>\n",
       "      <td>LICHTENBERG Pool Blue No. 918 Millennial Ryan ...</td>\n",
       "      <td>fine sheer curtain 63 inches</td>\n",
       "      <td>2.33</td>\n",
       "      <td>No. 918 Millennial Ryan heathered texture semi...</td>\n",
       "    </tr>\n",
       "  </tbody>\n",
       "</table>\n",
       "<p>74067 rows × 6 columns</p>\n",
       "</div>"
      ],
      "text/plain": [
       "           id  product_uid                                      product_title  \\\n",
       "0           2       100001                  Simpson Strong-Tie 12-Gauge Angle   \n",
       "1           3       100001                  Simpson Strong-Tie 12-Gauge Angle   \n",
       "2           9       100002  BEHR Premium Textured DeckOver 1-gal. #SC-141 ...   \n",
       "3          16       100005  Delta Vero 1-Handle Shower Only Faucet Trim Ki...   \n",
       "4          17       100005  Delta Vero 1-Handle Shower Only Faucet Trim Ki...   \n",
       "...       ...          ...                                                ...   \n",
       "74062  221457       206638  Atlantic Windowpane 576 CD or 192 DVD Blu-Ray ...   \n",
       "74063  221458       206639  Philips 40-Watt Halogen R20 Flood Light Bulb (...   \n",
       "74064  221463       206641  Schlage Camelot In-Active Aged Bronze Handlese...   \n",
       "74065  221471       206648  Plastec 11 in. x 24 in. Rose Garden Wall Decor...   \n",
       "74066  221473       206650  LICHTENBERG Pool Blue No. 918 Millennial Ryan ...   \n",
       "\n",
       "                                   search_term  relevance  \\\n",
       "0                                angle bracket       3.00   \n",
       "1                                    l bracket       2.50   \n",
       "2                                    deck over       3.00   \n",
       "3                             rain shower head       2.33   \n",
       "4                           shower only faucet       2.67   \n",
       "...                                        ...        ...   \n",
       "74062                           tv riser glass       1.00   \n",
       "74063                        r20 halogen light       3.00   \n",
       "74064  schlage lock siena half dummy knob with       2.33   \n",
       "74065                        zen garden  decor       3.00   \n",
       "74066             fine sheer curtain 63 inches       2.33   \n",
       "\n",
       "                                     product_description  \n",
       "0      Not only do angles make joints stronger, they ...  \n",
       "1      Not only do angles make joints stronger, they ...  \n",
       "2      BEHR Premium Textured DECKOVER is an innovativ...  \n",
       "3      Update your bathroom with the Delta Vero Singl...  \n",
       "4      Update your bathroom with the Delta Vero Singl...  \n",
       "...                                                  ...  \n",
       "74062  Atlantic, Inc. 94835722 Uniquely designed for ...  \n",
       "74063  Philips Energy Advantage lamps use less energy...  \n",
       "74064  The Schlage Camelot In-Active Aged Bronze Hand...  \n",
       "74065  The Rose Garden is inspired by the popular ear...  \n",
       "74066  No. 918 Millennial Ryan heathered texture semi...  \n",
       "\n",
       "[74067 rows x 6 columns]"
      ]
     },
     "execution_count": 3,
     "metadata": {},
     "output_type": "execute_result"
    }
   ],
   "source": [
    "df_train = pd.read_csv('train.csv', encoding=\"ISO-8859-1\")\n",
    "df_test = pd.read_csv('test.csv', encoding=\"ISO-8859-1\")\n",
    "df_attr = pd.read_csv('attributes.csv')\n",
    "df_pro_desc = pd.read_csv('product_descriptions.csv')\n",
    "#df_all = pd.concat((df_train, df_test), axis=0, ignore_index=True)\n",
    "df_train_desc = pd.merge(df_train, df_pro_desc, how='left', on='product_uid')\n",
    "df_train_small = df_train_desc\n",
    "df_train_small"
   ]
  },
  {
   "cell_type": "code",
   "execution_count": 4,
   "metadata": {
    "scrolled": true
   },
   "outputs": [
    {
     "data": {
      "text/html": [
       "<div>\n",
       "<style scoped>\n",
       "    .dataframe tbody tr th:only-of-type {\n",
       "        vertical-align: middle;\n",
       "    }\n",
       "\n",
       "    .dataframe tbody tr th {\n",
       "        vertical-align: top;\n",
       "    }\n",
       "\n",
       "    .dataframe thead th {\n",
       "        text-align: right;\n",
       "    }\n",
       "</style>\n",
       "<table border=\"1\" class=\"dataframe\">\n",
       "  <thead>\n",
       "    <tr style=\"text-align: right;\">\n",
       "      <th></th>\n",
       "      <th>id</th>\n",
       "      <th>product_uid</th>\n",
       "      <th>product_title</th>\n",
       "      <th>search_term</th>\n",
       "      <th>relevance</th>\n",
       "      <th>product_description</th>\n",
       "    </tr>\n",
       "  </thead>\n",
       "  <tbody>\n",
       "    <tr>\n",
       "      <th>0</th>\n",
       "      <td>2</td>\n",
       "      <td>100001</td>\n",
       "      <td>[simpson, strongtie, 12gauge, angle]</td>\n",
       "      <td>[angle, bracket]</td>\n",
       "      <td>3.00</td>\n",
       "      <td>[angles, make, joints, stronger, also, provide...</td>\n",
       "    </tr>\n",
       "    <tr>\n",
       "      <th>1</th>\n",
       "      <td>3</td>\n",
       "      <td>100001</td>\n",
       "      <td>[simpson, strongtie, 12gauge, angle]</td>\n",
       "      <td>[l, bracket]</td>\n",
       "      <td>2.50</td>\n",
       "      <td>[angles, make, joints, stronger, also, provide...</td>\n",
       "    </tr>\n",
       "    <tr>\n",
       "      <th>2</th>\n",
       "      <td>9</td>\n",
       "      <td>100002</td>\n",
       "      <td>[behr, premium, textured, deckover, 1gal, sc14...</td>\n",
       "      <td>[deck]</td>\n",
       "      <td>3.00</td>\n",
       "      <td>[behr, premium, textured, deckover, innovative...</td>\n",
       "    </tr>\n",
       "    <tr>\n",
       "      <th>3</th>\n",
       "      <td>16</td>\n",
       "      <td>100005</td>\n",
       "      <td>[delta, vero, 1handle, shower, faucet, trim, k...</td>\n",
       "      <td>[rain, shower, head]</td>\n",
       "      <td>2.33</td>\n",
       "      <td>[update, bathroom, delta, vero, singlehandle, ...</td>\n",
       "    </tr>\n",
       "    <tr>\n",
       "      <th>4</th>\n",
       "      <td>17</td>\n",
       "      <td>100005</td>\n",
       "      <td>[delta, vero, 1handle, shower, faucet, trim, k...</td>\n",
       "      <td>[shower, faucet]</td>\n",
       "      <td>2.67</td>\n",
       "      <td>[update, bathroom, delta, vero, singlehandle, ...</td>\n",
       "    </tr>\n",
       "    <tr>\n",
       "      <th>...</th>\n",
       "      <td>...</td>\n",
       "      <td>...</td>\n",
       "      <td>...</td>\n",
       "      <td>...</td>\n",
       "      <td>...</td>\n",
       "      <td>...</td>\n",
       "    </tr>\n",
       "    <tr>\n",
       "      <th>74062</th>\n",
       "      <td>221457</td>\n",
       "      <td>206638</td>\n",
       "      <td>[atlantic, windowpane, 576, cd, 192, dvd, blur...</td>\n",
       "      <td>[tv, riser, glass]</td>\n",
       "      <td>1.00</td>\n",
       "      <td>[atlantic, inc, 94835722, uniquely, designed, ...</td>\n",
       "    </tr>\n",
       "    <tr>\n",
       "      <th>74063</th>\n",
       "      <td>221458</td>\n",
       "      <td>206639</td>\n",
       "      <td>[philips, 40watt, halogen, r20, flood, light, ...</td>\n",
       "      <td>[r20, halogen, light]</td>\n",
       "      <td>3.00</td>\n",
       "      <td>[philips, energy, advantage, lamps, use, less,...</td>\n",
       "    </tr>\n",
       "    <tr>\n",
       "      <th>74064</th>\n",
       "      <td>221463</td>\n",
       "      <td>206641</td>\n",
       "      <td>[schlage, camelot, inactive, aged, bronze, han...</td>\n",
       "      <td>[schlage, lock, siena, half, dummy, knob]</td>\n",
       "      <td>2.33</td>\n",
       "      <td>[schlage, camelot, inactive, aged, bronze, han...</td>\n",
       "    </tr>\n",
       "    <tr>\n",
       "      <th>74065</th>\n",
       "      <td>221471</td>\n",
       "      <td>206648</td>\n",
       "      <td>[plastec, 11, x, 24, rose, garden, wall, decor...</td>\n",
       "      <td>[zen, garden, decor]</td>\n",
       "      <td>3.00</td>\n",
       "      <td>[rose, garden, inspired, popular, early, 20th,...</td>\n",
       "    </tr>\n",
       "    <tr>\n",
       "      <th>74066</th>\n",
       "      <td>221473</td>\n",
       "      <td>206650</td>\n",
       "      <td>[lichtenberg, pool, blue, 918, millennial, rya...</td>\n",
       "      <td>[fine, sheer, curtain, 63, inches]</td>\n",
       "      <td>2.33</td>\n",
       "      <td>[918, millennial, ryan, heathered, texture, se...</td>\n",
       "    </tr>\n",
       "  </tbody>\n",
       "</table>\n",
       "<p>74067 rows × 6 columns</p>\n",
       "</div>"
      ],
      "text/plain": [
       "           id  product_uid                                      product_title  \\\n",
       "0           2       100001               [simpson, strongtie, 12gauge, angle]   \n",
       "1           3       100001               [simpson, strongtie, 12gauge, angle]   \n",
       "2           9       100002  [behr, premium, textured, deckover, 1gal, sc14...   \n",
       "3          16       100005  [delta, vero, 1handle, shower, faucet, trim, k...   \n",
       "4          17       100005  [delta, vero, 1handle, shower, faucet, trim, k...   \n",
       "...       ...          ...                                                ...   \n",
       "74062  221457       206638  [atlantic, windowpane, 576, cd, 192, dvd, blur...   \n",
       "74063  221458       206639  [philips, 40watt, halogen, r20, flood, light, ...   \n",
       "74064  221463       206641  [schlage, camelot, inactive, aged, bronze, han...   \n",
       "74065  221471       206648  [plastec, 11, x, 24, rose, garden, wall, decor...   \n",
       "74066  221473       206650  [lichtenberg, pool, blue, 918, millennial, rya...   \n",
       "\n",
       "                                     search_term  relevance  \\\n",
       "0                               [angle, bracket]       3.00   \n",
       "1                                   [l, bracket]       2.50   \n",
       "2                                         [deck]       3.00   \n",
       "3                           [rain, shower, head]       2.33   \n",
       "4                               [shower, faucet]       2.67   \n",
       "...                                          ...        ...   \n",
       "74062                         [tv, riser, glass]       1.00   \n",
       "74063                      [r20, halogen, light]       3.00   \n",
       "74064  [schlage, lock, siena, half, dummy, knob]       2.33   \n",
       "74065                       [zen, garden, decor]       3.00   \n",
       "74066         [fine, sheer, curtain, 63, inches]       2.33   \n",
       "\n",
       "                                     product_description  \n",
       "0      [angles, make, joints, stronger, also, provide...  \n",
       "1      [angles, make, joints, stronger, also, provide...  \n",
       "2      [behr, premium, textured, deckover, innovative...  \n",
       "3      [update, bathroom, delta, vero, singlehandle, ...  \n",
       "4      [update, bathroom, delta, vero, singlehandle, ...  \n",
       "...                                                  ...  \n",
       "74062  [atlantic, inc, 94835722, uniquely, designed, ...  \n",
       "74063  [philips, energy, advantage, lamps, use, less,...  \n",
       "74064  [schlage, camelot, inactive, aged, bronze, han...  \n",
       "74065  [rose, garden, inspired, popular, early, 20th,...  \n",
       "74066  [918, millennial, ryan, heathered, texture, se...  \n",
       "\n",
       "[74067 rows x 6 columns]"
      ]
     },
     "execution_count": 4,
     "metadata": {},
     "output_type": "execute_result"
    }
   ],
   "source": [
    "def clean_text(text):\n",
    "    stopwords = nltk.corpus.stopwords.words('english')\n",
    "    text = \"\".join([word for word in text if word not in string.punctuation])\n",
    "    tokens = re.split('\\W+', text)\n",
    "    text = [word for word in tokens if word not in stopwords]\n",
    "    return text\n",
    "\n",
    "df_train_small['product_title'] = df_train_small['product_title'].apply(lambda x: clean_text(x.lower()))\n",
    "df_train_small['search_term'] = df_train_small['search_term'].apply(lambda x: clean_text(x.lower()))\n",
    "df_train_small['product_description'] = df_train_small['product_description'].apply(lambda x: clean_text(x.lower()))\n",
    "df_train_small"
   ]
  },
  {
   "cell_type": "code",
   "execution_count": null,
   "metadata": {},
   "outputs": [],
   "source": [
    "#stemming\n",
    "ps = nltk.PorterStemmer() # define stemmer\n",
    "df_all_stem = pd.DataFrame()\n",
    "\n",
    "def stemming(tokenized_text):\n",
    "    text = [ps.stem(word) for word in tokenized_text]  #return stemmed word\n",
    "    return text\n",
    "df_all_stem['id'] = df_train_small['id']\n",
    "df_all_stem['product_uid'] = df_train_small['product_uid']\n",
    "df_all_stem['product_title'] = df_train_small['product_title'].apply(lambda x: stemming(x))\n",
    "df_all_stem['search_term'] = df_train_small['search_term'].apply(lambda x: stemming(x))\n",
    "df_all_stem['product_description'] = df_train_small['product_description'].apply(lambda x: stemming(x))\n",
    "df_all_stem['relevance'] = df_train_small['relevance']\n",
    "df_all_stem.head()"
   ]
  },
  {
   "cell_type": "code",
   "execution_count": null,
   "metadata": {},
   "outputs": [],
   "source": [
    "df_all_stem.info()"
   ]
  },
  {
   "cell_type": "markdown",
   "metadata": {},
   "source": [
    "## Use customized embedding techinique - mean of similarities"
   ]
  },
  {
   "cell_type": "code",
   "execution_count": null,
   "metadata": {},
   "outputs": [],
   "source": [
    "def sim_score(sim_vec):\n",
    "    sim_score = []\n",
    "    for a in sim_vec:\n",
    "        mean = np.mean(a) \n",
    "        sim_score.append(mean)\n",
    "    return np.mean(sim_score) \n",
    "\n",
    "def get_sim_score(A,B):\n",
    "    #A,B are lists of \n",
    "    sim_score_list = []\n",
    "    for i in range(len(A)):\n",
    "        #print(B[i])\n",
    "        try:\n",
    "            sim_score_list.append(sim_score(vectors.similarity(A[i],B[i])))\n",
    "        except:\n",
    "            print(B[i])\n",
    "            sim_score_list.append(0) #if one of the list is empty, means no word in it. Return 0 similarity\n",
    "    return sim_score_list"
   ]
  },
  {
   "cell_type": "markdown",
   "metadata": {},
   "source": [
    "### embedding Product title, get similarity score between product title and search_term\n"
   ]
  },
  {
   "cell_type": "code",
   "execution_count": 8,
   "metadata": {},
   "outputs": [
    {
     "name": "stdout",
     "output_type": "stream",
     "text": [
      "[]\n",
      "[]\n",
      "[]\n",
      "[]\n",
      "[]\n",
      "[]\n",
      "[]\n",
      "[]\n",
      "[]\n",
      "[]\n",
      "[]\n",
      "[]\n",
      "[]\n",
      "[]\n",
      "[]\n",
      "[]\n",
      "[]\n",
      "[]\n",
      "[]\n",
      "[]\n"
     ]
    },
    {
     "data": {
      "text/html": [
       "<div>\n",
       "<style scoped>\n",
       "    .dataframe tbody tr th:only-of-type {\n",
       "        vertical-align: middle;\n",
       "    }\n",
       "\n",
       "    .dataframe tbody tr th {\n",
       "        vertical-align: top;\n",
       "    }\n",
       "\n",
       "    .dataframe thead th {\n",
       "        text-align: right;\n",
       "    }\n",
       "</style>\n",
       "<table border=\"1\" class=\"dataframe\">\n",
       "  <thead>\n",
       "    <tr style=\"text-align: right;\">\n",
       "      <th></th>\n",
       "      <th>title_sim</th>\n",
       "    </tr>\n",
       "  </thead>\n",
       "  <tbody>\n",
       "    <tr>\n",
       "      <th>0</th>\n",
       "      <td>0.099485</td>\n",
       "    </tr>\n",
       "    <tr>\n",
       "      <th>1</th>\n",
       "      <td>0.056404</td>\n",
       "    </tr>\n",
       "    <tr>\n",
       "      <th>2</th>\n",
       "      <td>0.043307</td>\n",
       "    </tr>\n",
       "    <tr>\n",
       "      <th>3</th>\n",
       "      <td>0.036266</td>\n",
       "    </tr>\n",
       "    <tr>\n",
       "      <th>4</th>\n",
       "      <td>0.077293</td>\n",
       "    </tr>\n",
       "    <tr>\n",
       "      <th>...</th>\n",
       "      <td>...</td>\n",
       "    </tr>\n",
       "    <tr>\n",
       "      <th>74062</th>\n",
       "      <td>0.040757</td>\n",
       "    </tr>\n",
       "    <tr>\n",
       "      <th>74063</th>\n",
       "      <td>0.090597</td>\n",
       "    </tr>\n",
       "    <tr>\n",
       "      <th>74064</th>\n",
       "      <td>0.034847</td>\n",
       "    </tr>\n",
       "    <tr>\n",
       "      <th>74065</th>\n",
       "      <td>0.060843</td>\n",
       "    </tr>\n",
       "    <tr>\n",
       "      <th>74066</th>\n",
       "      <td>0.022391</td>\n",
       "    </tr>\n",
       "  </tbody>\n",
       "</table>\n",
       "<p>74067 rows × 1 columns</p>\n",
       "</div>"
      ],
      "text/plain": [
       "       title_sim\n",
       "0       0.099485\n",
       "1       0.056404\n",
       "2       0.043307\n",
       "3       0.036266\n",
       "4       0.077293\n",
       "...          ...\n",
       "74062   0.040757\n",
       "74063   0.090597\n",
       "74064   0.034847\n",
       "74065   0.060843\n",
       "74066   0.022391\n",
       "\n",
       "[74067 rows x 1 columns]"
      ]
     },
     "execution_count": 8,
     "metadata": {},
     "output_type": "execute_result"
    }
   ],
   "source": [
    "df_emb = pd.DataFrame()\n",
    "product_title_emb = get_sim_score(list(df_all_stem['product_title']),list(df_all_stem['search_term']))\n",
    "df_emb['title_sim'] = product_title_emb\n",
    "df_emb"
   ]
  },
  {
   "cell_type": "code",
   "execution_count": 9,
   "metadata": {},
   "outputs": [
    {
     "name": "stdout",
     "output_type": "stream",
     "text": [
      "[]\n",
      "[]\n",
      "[]\n",
      "[]\n",
      "[]\n",
      "[]\n",
      "[]\n",
      "[]\n",
      "[]\n",
      "[]\n",
      "[]\n",
      "[]\n",
      "[]\n",
      "[]\n",
      "[]\n",
      "[]\n",
      "[]\n",
      "[]\n",
      "[]\n",
      "[]\n"
     ]
    },
    {
     "data": {
      "text/html": [
       "<div>\n",
       "<style scoped>\n",
       "    .dataframe tbody tr th:only-of-type {\n",
       "        vertical-align: middle;\n",
       "    }\n",
       "\n",
       "    .dataframe tbody tr th {\n",
       "        vertical-align: top;\n",
       "    }\n",
       "\n",
       "    .dataframe thead th {\n",
       "        text-align: right;\n",
       "    }\n",
       "</style>\n",
       "<table border=\"1\" class=\"dataframe\">\n",
       "  <thead>\n",
       "    <tr style=\"text-align: right;\">\n",
       "      <th></th>\n",
       "      <th>title_sim</th>\n",
       "      <th>description_sim</th>\n",
       "    </tr>\n",
       "  </thead>\n",
       "  <tbody>\n",
       "    <tr>\n",
       "      <th>0</th>\n",
       "      <td>0.099485</td>\n",
       "      <td>0.011724</td>\n",
       "    </tr>\n",
       "    <tr>\n",
       "      <th>1</th>\n",
       "      <td>0.056404</td>\n",
       "      <td>0.009350</td>\n",
       "    </tr>\n",
       "    <tr>\n",
       "      <th>2</th>\n",
       "      <td>0.043307</td>\n",
       "      <td>0.011489</td>\n",
       "    </tr>\n",
       "    <tr>\n",
       "      <th>3</th>\n",
       "      <td>0.036266</td>\n",
       "      <td>0.009092</td>\n",
       "    </tr>\n",
       "    <tr>\n",
       "      <th>4</th>\n",
       "      <td>0.077293</td>\n",
       "      <td>0.016911</td>\n",
       "    </tr>\n",
       "    <tr>\n",
       "      <th>...</th>\n",
       "      <td>...</td>\n",
       "      <td>...</td>\n",
       "    </tr>\n",
       "    <tr>\n",
       "      <th>74062</th>\n",
       "      <td>0.040757</td>\n",
       "      <td>0.013468</td>\n",
       "    </tr>\n",
       "    <tr>\n",
       "      <th>74063</th>\n",
       "      <td>0.090597</td>\n",
       "      <td>0.014838</td>\n",
       "    </tr>\n",
       "    <tr>\n",
       "      <th>74064</th>\n",
       "      <td>0.034847</td>\n",
       "      <td>0.007674</td>\n",
       "    </tr>\n",
       "    <tr>\n",
       "      <th>74065</th>\n",
       "      <td>0.060843</td>\n",
       "      <td>0.025619</td>\n",
       "    </tr>\n",
       "    <tr>\n",
       "      <th>74066</th>\n",
       "      <td>0.022391</td>\n",
       "      <td>0.010826</td>\n",
       "    </tr>\n",
       "  </tbody>\n",
       "</table>\n",
       "<p>74067 rows × 2 columns</p>\n",
       "</div>"
      ],
      "text/plain": [
       "       title_sim  description_sim\n",
       "0       0.099485         0.011724\n",
       "1       0.056404         0.009350\n",
       "2       0.043307         0.011489\n",
       "3       0.036266         0.009092\n",
       "4       0.077293         0.016911\n",
       "...          ...              ...\n",
       "74062   0.040757         0.013468\n",
       "74063   0.090597         0.014838\n",
       "74064   0.034847         0.007674\n",
       "74065   0.060843         0.025619\n",
       "74066   0.022391         0.010826\n",
       "\n",
       "[74067 rows x 2 columns]"
      ]
     },
     "execution_count": 9,
     "metadata": {},
     "output_type": "execute_result"
    }
   ],
   "source": [
    "description_emb = get_sim_score(list(df_all_stem['product_description']),list(df_all_stem['search_term']))\n",
    "df_emb['description_sim'] = description_emb\n",
    "df_emb"
   ]
  },
  {
   "cell_type": "code",
   "execution_count": 10,
   "metadata": {},
   "outputs": [],
   "source": [
    "df_emb.to_csv(\"HD_embedding.csv\")"
   ]
  },
  {
   "cell_type": "markdown",
   "metadata": {},
   "source": [
    "## Add new features"
   ]
  },
  {
   "cell_type": "code",
   "execution_count": 11,
   "metadata": {},
   "outputs": [
    {
     "data": {
      "text/html": [
       "<div>\n",
       "<style scoped>\n",
       "    .dataframe tbody tr th:only-of-type {\n",
       "        vertical-align: middle;\n",
       "    }\n",
       "\n",
       "    .dataframe tbody tr th {\n",
       "        vertical-align: top;\n",
       "    }\n",
       "\n",
       "    .dataframe thead th {\n",
       "        text-align: right;\n",
       "    }\n",
       "</style>\n",
       "<table border=\"1\" class=\"dataframe\">\n",
       "  <thead>\n",
       "    <tr style=\"text-align: right;\">\n",
       "      <th></th>\n",
       "      <th>id</th>\n",
       "      <th>product_uid</th>\n",
       "      <th>len_of_query</th>\n",
       "      <th>word_in_title</th>\n",
       "      <th>word_in_description</th>\n",
       "    </tr>\n",
       "  </thead>\n",
       "  <tbody>\n",
       "    <tr>\n",
       "      <th>0</th>\n",
       "      <td>2</td>\n",
       "      <td>100001</td>\n",
       "      <td>2</td>\n",
       "      <td>1</td>\n",
       "      <td>1</td>\n",
       "    </tr>\n",
       "    <tr>\n",
       "      <th>1</th>\n",
       "      <td>3</td>\n",
       "      <td>100001</td>\n",
       "      <td>2</td>\n",
       "      <td>0</td>\n",
       "      <td>0</td>\n",
       "    </tr>\n",
       "    <tr>\n",
       "      <th>2</th>\n",
       "      <td>9</td>\n",
       "      <td>100002</td>\n",
       "      <td>1</td>\n",
       "      <td>0</td>\n",
       "      <td>1</td>\n",
       "    </tr>\n",
       "    <tr>\n",
       "      <th>3</th>\n",
       "      <td>16</td>\n",
       "      <td>100005</td>\n",
       "      <td>3</td>\n",
       "      <td>1</td>\n",
       "      <td>1</td>\n",
       "    </tr>\n",
       "    <tr>\n",
       "      <th>4</th>\n",
       "      <td>17</td>\n",
       "      <td>100005</td>\n",
       "      <td>2</td>\n",
       "      <td>2</td>\n",
       "      <td>2</td>\n",
       "    </tr>\n",
       "  </tbody>\n",
       "</table>\n",
       "</div>"
      ],
      "text/plain": [
       "   id  product_uid  len_of_query  word_in_title  word_in_description\n",
       "0   2       100001             2              1                    1\n",
       "1   3       100001             2              0                    0\n",
       "2   9       100002             1              0                    1\n",
       "3  16       100005             3              1                    1\n",
       "4  17       100005             2              2                    2"
      ]
     },
     "execution_count": 11,
     "metadata": {},
     "output_type": "execute_result"
    }
   ],
   "source": [
    "df_all_features = pd.DataFrame()\n",
    "\n",
    "def str_common_word(list1, list2):\n",
    "    list3 = set(list1)&set(list2) \n",
    "    list4 = sorted(list3, key = lambda k : list1.index(k))\n",
    "    return len(list4)\n",
    "\n",
    "\n",
    "df_all_features['search_term'] = df_all_stem['search_term']\n",
    "df_all_features['product_title'] = df_all_stem['product_title']\n",
    "df_all_features['product_description'] = df_all_stem['product_description']\n",
    "\n",
    "df_all_features['product_info'] = df_all_features.values.tolist()\n",
    "df_all_features['id'] = df_train_small['id']\n",
    "df_all_features['product_uid'] = df_train_small['product_uid']\n",
    "df_all_features['len_of_query'] = df_all_features['search_term'].map(lambda x:len(x)).astype(np.int64)\n",
    "df_all_features['word_in_title'] = df_all_features['product_info'].map(lambda x:str_common_word(x[0],x[1]))\n",
    "df_all_features['word_in_description'] = df_all_features['product_info'].map(lambda x:str_common_word(x[0],x[2]))\n",
    "df_all_features = df_all_features.drop(['search_term','product_title','product_description','product_info'],axis=1)\n",
    "\n",
    "df_all_features.head()"
   ]
  },
  {
   "cell_type": "code",
   "execution_count": 12,
   "metadata": {},
   "outputs": [
    {
     "data": {
      "text/html": [
       "<div>\n",
       "<style scoped>\n",
       "    .dataframe tbody tr th:only-of-type {\n",
       "        vertical-align: middle;\n",
       "    }\n",
       "\n",
       "    .dataframe tbody tr th {\n",
       "        vertical-align: top;\n",
       "    }\n",
       "\n",
       "    .dataframe thead th {\n",
       "        text-align: right;\n",
       "    }\n",
       "</style>\n",
       "<table border=\"1\" class=\"dataframe\">\n",
       "  <thead>\n",
       "    <tr style=\"text-align: right;\">\n",
       "      <th></th>\n",
       "      <th>id</th>\n",
       "      <th>product_uid</th>\n",
       "      <th>len_of_query</th>\n",
       "      <th>word_in_title</th>\n",
       "      <th>word_in_description</th>\n",
       "      <th>title_sim</th>\n",
       "      <th>description_sim</th>\n",
       "      <th>relevance</th>\n",
       "    </tr>\n",
       "  </thead>\n",
       "  <tbody>\n",
       "    <tr>\n",
       "      <th>0</th>\n",
       "      <td>2</td>\n",
       "      <td>100001</td>\n",
       "      <td>2</td>\n",
       "      <td>1</td>\n",
       "      <td>1</td>\n",
       "      <td>0.099485</td>\n",
       "      <td>0.011724</td>\n",
       "      <td>3.00</td>\n",
       "    </tr>\n",
       "    <tr>\n",
       "      <th>1</th>\n",
       "      <td>3</td>\n",
       "      <td>100001</td>\n",
       "      <td>2</td>\n",
       "      <td>0</td>\n",
       "      <td>0</td>\n",
       "      <td>0.056404</td>\n",
       "      <td>0.009350</td>\n",
       "      <td>2.50</td>\n",
       "    </tr>\n",
       "    <tr>\n",
       "      <th>2</th>\n",
       "      <td>9</td>\n",
       "      <td>100002</td>\n",
       "      <td>1</td>\n",
       "      <td>0</td>\n",
       "      <td>1</td>\n",
       "      <td>0.043307</td>\n",
       "      <td>0.011489</td>\n",
       "      <td>3.00</td>\n",
       "    </tr>\n",
       "    <tr>\n",
       "      <th>3</th>\n",
       "      <td>16</td>\n",
       "      <td>100005</td>\n",
       "      <td>3</td>\n",
       "      <td>1</td>\n",
       "      <td>1</td>\n",
       "      <td>0.036266</td>\n",
       "      <td>0.009092</td>\n",
       "      <td>2.33</td>\n",
       "    </tr>\n",
       "    <tr>\n",
       "      <th>4</th>\n",
       "      <td>17</td>\n",
       "      <td>100005</td>\n",
       "      <td>2</td>\n",
       "      <td>2</td>\n",
       "      <td>2</td>\n",
       "      <td>0.077293</td>\n",
       "      <td>0.016911</td>\n",
       "      <td>2.67</td>\n",
       "    </tr>\n",
       "    <tr>\n",
       "      <th>...</th>\n",
       "      <td>...</td>\n",
       "      <td>...</td>\n",
       "      <td>...</td>\n",
       "      <td>...</td>\n",
       "      <td>...</td>\n",
       "      <td>...</td>\n",
       "      <td>...</td>\n",
       "      <td>...</td>\n",
       "    </tr>\n",
       "    <tr>\n",
       "      <th>74062</th>\n",
       "      <td>221457</td>\n",
       "      <td>206638</td>\n",
       "      <td>3</td>\n",
       "      <td>1</td>\n",
       "      <td>1</td>\n",
       "      <td>0.040757</td>\n",
       "      <td>0.013468</td>\n",
       "      <td>1.00</td>\n",
       "    </tr>\n",
       "    <tr>\n",
       "      <th>74063</th>\n",
       "      <td>221458</td>\n",
       "      <td>206639</td>\n",
       "      <td>3</td>\n",
       "      <td>3</td>\n",
       "      <td>2</td>\n",
       "      <td>0.090597</td>\n",
       "      <td>0.014838</td>\n",
       "      <td>3.00</td>\n",
       "    </tr>\n",
       "    <tr>\n",
       "      <th>74064</th>\n",
       "      <td>221463</td>\n",
       "      <td>206641</td>\n",
       "      <td>6</td>\n",
       "      <td>1</td>\n",
       "      <td>1</td>\n",
       "      <td>0.034847</td>\n",
       "      <td>0.007674</td>\n",
       "      <td>2.33</td>\n",
       "    </tr>\n",
       "    <tr>\n",
       "      <th>74065</th>\n",
       "      <td>221471</td>\n",
       "      <td>206648</td>\n",
       "      <td>3</td>\n",
       "      <td>2</td>\n",
       "      <td>2</td>\n",
       "      <td>0.060843</td>\n",
       "      <td>0.025619</td>\n",
       "      <td>3.00</td>\n",
       "    </tr>\n",
       "    <tr>\n",
       "      <th>74066</th>\n",
       "      <td>221473</td>\n",
       "      <td>206650</td>\n",
       "      <td>5</td>\n",
       "      <td>3</td>\n",
       "      <td>1</td>\n",
       "      <td>0.022391</td>\n",
       "      <td>0.010826</td>\n",
       "      <td>2.33</td>\n",
       "    </tr>\n",
       "  </tbody>\n",
       "</table>\n",
       "<p>74067 rows × 8 columns</p>\n",
       "</div>"
      ],
      "text/plain": [
       "           id  product_uid  len_of_query  word_in_title  word_in_description  \\\n",
       "0           2       100001             2              1                    1   \n",
       "1           3       100001             2              0                    0   \n",
       "2           9       100002             1              0                    1   \n",
       "3          16       100005             3              1                    1   \n",
       "4          17       100005             2              2                    2   \n",
       "...       ...          ...           ...            ...                  ...   \n",
       "74062  221457       206638             3              1                    1   \n",
       "74063  221458       206639             3              3                    2   \n",
       "74064  221463       206641             6              1                    1   \n",
       "74065  221471       206648             3              2                    2   \n",
       "74066  221473       206650             5              3                    1   \n",
       "\n",
       "       title_sim  description_sim  relevance  \n",
       "0       0.099485         0.011724       3.00  \n",
       "1       0.056404         0.009350       2.50  \n",
       "2       0.043307         0.011489       3.00  \n",
       "3       0.036266         0.009092       2.33  \n",
       "4       0.077293         0.016911       2.67  \n",
       "...          ...              ...        ...  \n",
       "74062   0.040757         0.013468       1.00  \n",
       "74063   0.090597         0.014838       3.00  \n",
       "74064   0.034847         0.007674       2.33  \n",
       "74065   0.060843         0.025619       3.00  \n",
       "74066   0.022391         0.010826       2.33  \n",
       "\n",
       "[74067 rows x 8 columns]"
      ]
     },
     "execution_count": 12,
     "metadata": {},
     "output_type": "execute_result"
    }
   ],
   "source": [
    "#add the embedding features\n",
    "df_all_features_emb = pd.concat([df_all_features, df_emb], axis=1)\n",
    "df_all_features_emb['relevance'] = df_train_small['relevance']\n",
    "df_all_features_emb"
   ]
  },
  {
   "cell_type": "markdown",
   "metadata": {},
   "source": [
    "## check the distribution of the features"
   ]
  },
  {
   "cell_type": "code",
   "execution_count": 33,
   "metadata": {},
   "outputs": [
    {
     "data": {
      "image/png": "[encoded data removed]",
      "text/plain": [
       "<Figure size 432x288 with 1 Axes>"
      ]
     },
     "metadata": {
      "needs_background": "light"
     },
     "output_type": "display_data"
    }
   ],
   "source": [
    "pyplot.hist(df_all_features_emb['title_sim'], bins = 40)\n",
    "pyplot.title(\"Title similarity\")\n",
    "df_all_features_emb['title_sim_log'] = (df_all_features_emb['title_sim']+1).transform(np.log)\n",
    "pyplot.hist(df_all_features_emb['title_sim_log'], bins = 40)\n",
    "pyplot.show()"
   ]
  },
  {
   "cell_type": "code",
   "execution_count": 34,
   "metadata": {},
   "outputs": [
    {
     "data": {
      "image/png": "[encoded data removed]",
      "text/plain": [
       "<Figure size 432x288 with 1 Axes>"
      ]
     },
     "metadata": {
      "needs_background": "light"
     },
     "output_type": "display_data"
    }
   ],
   "source": [
    "from matplotlib import pyplot\n",
    "import numpy as np\n",
    "%matplotlib inline\n",
    "df_all_features_emb['description_sim_log'] = (df_all_features_emb['description_sim']+1).transform(np.log)\n",
    "pyplot.hist(df_all_features_emb['description_sim'], bins = 40)\n",
    "pyplot.hist(df_all_features_emb['description_sim_log'], bins = 40)\n",
    "pyplot.title(\"description similarity\")\n",
    "pyplot.show()"
   ]
  },
  {
   "cell_type": "markdown",
   "metadata": {},
   "source": [
    "## Build Models"
   ]
  },
  {
   "cell_type": "code",
   "execution_count": 35,
   "metadata": {},
   "outputs": [
    {
     "name": "stdout",
     "output_type": "stream",
     "text": [
      "0.4876723648021967\n"
     ]
    }
   ],
   "source": [
    "X = df_all_features_emb.drop(['id','product_uid','relevance','description_sim','title_sim'],axis=1)\n",
    "y = df_all_features_emb['relevance'].values\n",
    "\n",
    "X_train, X_test, y_train, y_test = train_test_split(X, y, test_size=0.33, random_state=42)\n",
    "\n",
    "rf = RandomForestRegressor(n_estimators=15, max_depth=6, random_state=0)\n",
    "clf = BaggingRegressor(rf, n_estimators=45, max_samples=0.1, random_state=25)\n",
    "\n",
    "clf.fit(X_train, y_train)\n",
    "y_pred_clf = clf.predict(X_test)\n",
    "\n",
    "#out of sample result\n",
    "print(math.sqrt(mean_squared_error(y_test, y_pred_clf)))"
   ]
  },
  {
   "cell_type": "code",
   "execution_count": 37,
   "metadata": {},
   "outputs": [
    {
     "data": {
      "text/plain": [
       "0.48906441886591157"
      ]
     },
     "execution_count": 37,
     "metadata": {},
     "output_type": "execute_result"
    }
   ],
   "source": [
    "#in-sample result\n",
    "CV_score_clf = cross_val_score(clf, X_train, y_train, scoring='neg_mean_squared_error', cv=10)\n",
    "math.sqrt(-CV_score_clf.mean())"
   ]
  },
  {
   "cell_type": "code",
   "execution_count": 38,
   "metadata": {},
   "outputs": [
    {
     "name": "stdout",
     "output_type": "stream",
     "text": [
      "0.48785673614523867\n"
     ]
    }
   ],
   "source": [
    "#Random forest\n",
    "rf.fit(X_train, y_train)\n",
    "y_pred_rf = rf.predict(X_test)\n",
    "print(math.sqrt(mean_squared_error(y_test, y_pred_rf)))"
   ]
  },
  {
   "cell_type": "code",
   "execution_count": 39,
   "metadata": {},
   "outputs": [
    {
     "data": {
      "text/plain": [
       "0.48906441886591157"
      ]
     },
     "execution_count": 39,
     "metadata": {},
     "output_type": "execute_result"
    }
   ],
   "source": [
    "CV_score_rf = cross_val_score(clf, X_train, y_train, scoring='neg_mean_squared_error', cv=10)\n",
    "math.sqrt(-CV_score_rf.mean()) #root mean squared error"
   ]
  },
  {
   "cell_type": "code",
   "execution_count": 17,
   "metadata": {},
   "outputs": [
    {
     "data": {
      "text/plain": [
       "0.4880092511209217"
      ]
     },
     "execution_count": 17,
     "metadata": {},
     "output_type": "execute_result"
    }
   ],
   "source": [
    "#xgboost\n",
    "xg_reg = xgb.XGBRegressor(objective ='reg:squarederror', learning_rate = 0.1,max_depth = 5)\n",
    "xg_reg.fit(X_train,y_train)\n",
    "#preds = xg_reg.predict(X_test_stand)\n",
    "#preds\n",
    "CV_score_XGB = cross_val_score(xg_reg, X_train, y_train, scoring='neg_mean_squared_error', cv=10)\n",
    "math.sqrt(-CV_score_XGB.mean())"
   ]
  },
  {
   "cell_type": "code",
   "execution_count": 18,
   "metadata": {},
   "outputs": [
    {
     "name": "stdout",
     "output_type": "stream",
     "text": [
      "0.4863416194413129\n"
     ]
    }
   ],
   "source": [
    "y_pred_xg = xg_reg.predict(X_test)\n",
    "print(math.sqrt(mean_squared_error(y_test, y_pred_xg)))"
   ]
  },
  {
   "cell_type": "code",
   "execution_count": 19,
   "metadata": {},
   "outputs": [
    {
     "data": {
      "image/png": "[encoded data removed]",
      "text/plain": [
       "<Figure size 432x288 with 1 Axes>"
      ]
     },
     "metadata": {
      "needs_background": "light"
     },
     "output_type": "display_data"
    }
   ],
   "source": [
    "from xgboost import plot_importance\n",
    "from matplotlib import pyplot as plt\n",
    "plot_importance(xg_reg)\n",
    "plt.show() \n",
    "#feature 3 and 4 are the embedding features\n",
    "#the result is slightly better then just using simple features. And it's much better then normal word2vec embedding"
   ]
  },
  {
   "cell_type": "code",
   "execution_count": 20,
   "metadata": {},
   "outputs": [
    {
     "data": {
      "text/plain": [
       "0.4882557489211037"
      ]
     },
     "execution_count": 20,
     "metadata": {},
     "output_type": "execute_result"
    }
   ],
   "source": [
    "#try other models\n",
    "import lightgbm\n",
    "mod_lgbm = lightgbm.LGBMRegressor(max_depth=3,learning_rate=0.1)\n",
    "mod_lgbm.fit(X_train,y_train)\n",
    "LGBM_preds=mod_lgbm.predict(X_test)\n",
    "\n",
    "cv_scores_lgbm = cross_val_score(mod_lgbm, X_train, y_train, scoring='neg_mean_squared_error', cv=10)\n",
    "\n",
    "math.sqrt(-cv_scores_lgbm.mean())"
   ]
  },
  {
   "cell_type": "code",
   "execution_count": 21,
   "metadata": {},
   "outputs": [
    {
     "name": "stdout",
     "output_type": "stream",
     "text": [
      "0.48702820004133246\n"
     ]
    }
   ],
   "source": [
    "print(math.sqrt(mean_squared_error(y_test, LGBM_preds)))"
   ]
  },
  {
   "cell_type": "code",
   "execution_count": 7,
   "metadata": {},
   "outputs": [
    {
     "data": {
      "text/plain": [
       "[array([ 0.01038651, -0.01440274,  0.13343188], dtype=float32),\n",
       " array([0.01308307, 0.01708629, 0.04740979], dtype=float32)]"
      ]
     },
     "execution_count": 7,
     "metadata": {},
     "output_type": "execute_result"
    }
   ],
   "source": [
    "#test the similarity function\n",
    "vectors.similarity(['Simpson','Strong-Tie', 'Angle'],['angle', 'bracket'])"
   ]
  },
  {
   "cell_type": "code",
   "execution_count": null,
   "metadata": {},
   "outputs": [],
   "source": []
  }
 ],
 "metadata": {
  "kernelspec": {
   "display_name": "Python 3",
   "language": "python",
   "name": "python3"
  },
  "language_info": {
   "codemirror_mode": {
    "name": "ipython",
    "version": 3
   },
   "file_extension": ".py",
   "mimetype": "text/x-python",
   "name": "python",
   "nbconvert_exporter": "python",
   "pygments_lexer": "ipython3",
   "version": "3.7.6"
  }
 },
 "nbformat": 4,
 "nbformat_minor": 4
}
